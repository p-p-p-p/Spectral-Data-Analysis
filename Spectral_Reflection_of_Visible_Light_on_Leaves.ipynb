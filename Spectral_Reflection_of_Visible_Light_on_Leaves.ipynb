{
  "nbformat": 4,
  "nbformat_minor": 0,
  "metadata": {
    "colab": {
      "provenance": [],
      "gpuType": "T4"
    },
    "kernelspec": {
      "name": "python3",
      "display_name": "Python 3"
    },
    "language_info": {
      "name": "python"
    },
    "accelerator": "GPU"
  },
  "cells": [
    {
      "cell_type": "markdown",
      "source": [
        "[florence-sam](https://huggingface.co/spaces/SkalskiP/florence-sam)<br>\n",
        "[Florence-2](https://huggingface.co/spaces/gokaygokay/Florence-2)<br>\n",
        "[sam2](https://ai.meta.com/sam2/)<br>\n",
        "\n",
        "<img src=\"https://raw.githubusercontent.com/p-p-p-p/store/main/demo.png\">\n",
        "\n",
        "You can use Florence-2 to detect specific objects, such as a single leaf in an image, by passing a prompt like \"a single leaf.\" Florence-2 will identify and locate all instances of leaves in the image, which can then be passed to the SAM2 model. SAM2 will generate masks for each detected object, isolating them within the image.\n",
        "\n",
        "Once you have the masks, you can select the one that best matches your prompt (e.g., the first detected leaf) and use OpenCV to create a mask to isolate the leaf from the background. This will allow you to extract only that object from the original image, with the background being white. After that, you can perform spectral reflection of visible light on the extracted leaf to obtain a Reflectance vs. Wavelength graph.\n",
        "\n"
      ],
      "metadata": {
        "id": "GdsUIiT1Mhsj"
      }
    },
    {
      "cell_type": "markdown",
      "source": [
        "https://www.youtube.com/watch?v=vKG7BQw3H9U\n",
        "495-570 nm\n",
        "\n",
        "https://github.com/awesome-spectral-indices/awesome-spectral-indices"
      ],
      "metadata": {
        "id": "5oZIil6-sUKk"
      }
    },
    {
      "cell_type": "code",
      "execution_count": null,
      "metadata": {
        "cellView": "form",
        "id": "szw6eNozEvO7"
      },
      "outputs": [],
      "source": [
        "#@title Install required packages and Auto - Restart Session [If you get any pop-up click on cancel]\n",
        "!git lfs install\n",
        "%cd /content/\n",
        "!rm -rf /content/florence-sam\n",
        "!git clone https://huggingface.co/spaces/SkalskiP/florence-sam\n",
        "!wget https://treeplantation.com/images/articles/tree-leaves.png\n",
        "%cd /content/florence-sam\n",
        "!pip install -r /content/florence-sam/requirements.txt\n",
        "!pip install gradio==4.36.1\n",
        "from IPython.display import clear_output\n",
        "clear_output()\n",
        "import time\n",
        "time.sleep(5)\n",
        "import os\n",
        "os.kill(os.getpid(), 9)"
      ]
    },
    {
      "cell_type": "code",
      "source": [
        "#@title After seeing the red icon above run from here"
      ],
      "metadata": {
        "cellView": "form",
        "id": "6x2DM-wbS5_b"
      },
      "execution_count": 1,
      "outputs": []
    },
    {
      "cell_type": "code",
      "source": [
        "#@title <-- Play Audio to active the colab Notebook { display-mode: \"form\" }\n",
        "\n",
        "%%html\n",
        "<b>Press play on the music player to keep the tab alive, then run the cell below</b><br/>\n",
        "<audio src=\"https://raw.githubusercontent.com/KoboldAI/KoboldAI-Client/main/colab/silence.m4a\" controls>"
      ],
      "metadata": {
        "colab": {
          "base_uri": "https://localhost:8080/",
          "height": 93
        },
        "id": "vwevcPWPFiDV",
        "outputId": "30aec6af-b925-46db-9993-b1c3ee5686fb"
      },
      "execution_count": 2,
      "outputs": [
        {
          "output_type": "display_data",
          "data": {
            "text/plain": [
              "<IPython.core.display.HTML object>"
            ],
            "text/html": [
              "<b>Press play on the music player to keep the tab alive, then run the cell below</b><br/>\n",
              "<audio src=\"https://raw.githubusercontent.com/KoboldAI/KoboldAI-Client/main/colab/silence.m4a\" controls>\n"
            ]
          },
          "metadata": {}
        }
      ]
    },
    {
      "cell_type": "code",
      "source": [
        "#@title Utils\n",
        "%cd /content/florence-sam\n",
        "import os\n",
        "from typing import Tuple, Optional\n",
        "\n",
        "import cv2\n",
        "import gradio as gr\n",
        "import numpy as np\n",
        "import spaces\n",
        "import supervision as sv\n",
        "import torch\n",
        "from PIL import Image\n",
        "from tqdm import tqdm\n",
        "\n",
        "from utils.florence import load_florence_model, run_florence_inference, \\\n",
        "    FLORENCE_DETAILED_CAPTION_TASK, \\\n",
        "    FLORENCE_CAPTION_TO_PHRASE_GROUNDING_TASK, FLORENCE_OPEN_VOCABULARY_DETECTION_TASK\n",
        "from utils.modes import IMAGE_INFERENCE_MODES, IMAGE_OPEN_VOCABULARY_DETECTION_MODE\n",
        "from utils.sam import load_sam_image_model, run_sam_inference\n",
        "\n",
        "\n",
        "DEVICE = torch.device(\"cuda\")\n",
        "# DEVICE = torch.device(\"cpu\")\n",
        "\n",
        "torch.autocast(device_type=\"cuda\", dtype=torch.bfloat16).__enter__()\n",
        "if torch.cuda.get_device_properties(0).major >= 8:\n",
        "    torch.backends.cuda.matmul.allow_tf32 = True\n",
        "    torch.backends.cudnn.allow_tf32 = True\n",
        "FLORENCE_MODEL, FLORENCE_PROCESSOR = load_florence_model(device=DEVICE)\n",
        "SAM_IMAGE_MODEL = load_sam_image_model(device=DEVICE)\n",
        "COLORS = ['#FF1493', '#00BFFF', '#FF6347', '#FFD700', '#32CD32', '#8A2BE2']\n",
        "COLOR_PALETTE = sv.ColorPalette.from_hex(COLORS)\n",
        "BOX_ANNOTATOR = sv.BoxAnnotator(color=COLOR_PALETTE, color_lookup=sv.ColorLookup.INDEX)\n",
        "LABEL_ANNOTATOR = sv.LabelAnnotator(\n",
        "    color=COLOR_PALETTE,\n",
        "    color_lookup=sv.ColorLookup.INDEX,\n",
        "    text_position=sv.Position.CENTER_OF_MASS,\n",
        "    text_color=sv.Color.from_hex(\"#000000\"),\n",
        "    border_radius=5\n",
        ")\n",
        "MASK_ANNOTATOR = sv.MaskAnnotator(\n",
        "    color=COLOR_PALETTE,\n",
        "    color_lookup=sv.ColorLookup.INDEX\n",
        ")\n",
        "from IPython.display import clear_output\n",
        "clear_output()\n",
        "\n",
        "def annotate_image(image, detections):\n",
        "    output_image = image.copy()\n",
        "    output_image = MASK_ANNOTATOR.annotate(output_image, detections)\n",
        "    output_image = BOX_ANNOTATOR.annotate(output_image, detections)\n",
        "    output_image = LABEL_ANNOTATOR.annotate(output_image, detections)\n",
        "    return output_image\n",
        "\n",
        "\n",
        "\n",
        "\n",
        "\n",
        "\n",
        "@torch.inference_mode()\n",
        "@torch.autocast(device_type=\"cuda\", dtype=torch.bfloat16)\n",
        "def process_image(image_input, text_input,mode_dropdown=IMAGE_OPEN_VOCABULARY_DETECTION_MODE\n",
        ") -> Tuple[Optional[Image.Image], Optional[str]]:\n",
        "    if not image_input:\n",
        "        gr.Info(\"Please upload an image.\")\n",
        "        return None, None\n",
        "    text_input=text_input.lower()\n",
        "    if mode_dropdown == IMAGE_OPEN_VOCABULARY_DETECTION_MODE:\n",
        "        if not text_input:\n",
        "            gr.Info(\"Please enter a text prompt.\")\n",
        "            return None, None\n",
        "\n",
        "        texts = [prompt.strip() for prompt in text_input.split(\",\")]\n",
        "        detections_list = []\n",
        "        for text in texts:\n",
        "            _, result = run_florence_inference(\n",
        "                model=FLORENCE_MODEL,\n",
        "                processor=FLORENCE_PROCESSOR,\n",
        "                device=DEVICE,\n",
        "                image=image_input,\n",
        "                task=FLORENCE_OPEN_VOCABULARY_DETECTION_TASK,\n",
        "                text=text\n",
        "            )\n",
        "            detections = sv.Detections.from_lmm(\n",
        "                lmm=sv.LMM.FLORENCE_2,\n",
        "                result=result,\n",
        "                resolution_wh=image_input.size\n",
        "            )\n",
        "            detections = run_sam_inference(SAM_IMAGE_MODEL, image_input, detections)\n",
        "            detections_list.append(detections)\n",
        "\n",
        "        detections = sv.Detections.merge(detections_list)\n",
        "        detections = run_sam_inference(SAM_IMAGE_MODEL, image_input, detections)\n",
        "        # return annotate_image(image_input, detections), None\n",
        "        return detections\n",
        "\n"
      ],
      "metadata": {
        "cellView": "form",
        "id": "_ZkkERIsHPgU"
      },
      "execution_count": 3,
      "outputs": []
    },
    {
      "cell_type": "code",
      "source": [
        "#@title utils part 2\n",
        "import numpy as np\n",
        "import cv2\n",
        "from google.colab.patches import cv2_imshow\n",
        "\n",
        "def resize_image_with_padding(image,size=(512,512)):\n",
        "  # Get the dimensions of the original image\n",
        "  h, w = image.shape[:2]\n",
        "  width,height=size\n",
        "  # Calculate the scaling factor to maintain the aspect ratio\n",
        "  scale = min(width / w, height / h)\n",
        "\n",
        "  # Resize the image with the calculated scale factor\n",
        "  new_w = int(w * scale)\n",
        "  new_h = int(h * scale)\n",
        "  resized_image = cv2.resize(image, (new_w, new_h))\n",
        "\n",
        "  # Create a new image with a white background (or any color) and paste the resized image onto it\n",
        "  padded_image = np.full((width, height, 3), 255, dtype=np.uint8)  # White background (255, 255, 255)\n",
        "\n",
        "  # Calculate the top-left corner of the image to center it\n",
        "  x_offset = (width - new_w) // 2\n",
        "  y_offset = (height - new_h) // 2\n",
        "\n",
        "  # Place the resized image onto the padded background\n",
        "  padded_image[y_offset:y_offset+new_h, x_offset:x_offset+new_w] = resized_image\n",
        "  return padded_image\n",
        "def mask_image(pillow_image, detections):\n",
        "  # Convert the Pillow image to OpenCV format (NumPy array)\n",
        "  opencv_image = np.array(pillow_image)\n",
        "  # Convert RGB to BGR (if needed, OpenCV uses BGR by default)\n",
        "  opencv_image = cv2.cvtColor(opencv_image, cv2.COLOR_RGB2BGR)\n",
        "\n",
        "  # Extract the detection mask and bounding box\n",
        "  mask = list(detections[0])[0][1]\n",
        "  xyxy = list(detections[0])[0][0]\n",
        "  mask=mask.astype(np.uint8)\n",
        "  # Convert bounding box coordinates to integers\n",
        "  x_min, y_min, x_max, y_max = map(int, xyxy)\n",
        "  # cv2_imshow(opencv_image)\n",
        "\n",
        "  # Create a white background image of the same size as the cropped image\n",
        "  white_background = np.ones_like(opencv_image) * 255\n",
        "\n",
        "  # Apply the resized mask to the cropped image\n",
        "  masked_roi = cv2.bitwise_and(opencv_image, opencv_image, mask=mask)\n",
        "  # cv2.imwrite(\"/content/temp.png\",masked_roi)\n",
        "  # Place the masked ROI onto the white background\n",
        "  white_background = cv2.bitwise_or(white_background, white_background, mask=cv2.bitwise_not(mask))\n",
        "  white_background[mask == 1] = masked_roi[mask == 1]\n",
        "  cropped_image = white_background[y_min:y_max, x_min:x_max]\n",
        "  cropped_image=resize_image_with_padding(cropped_image,size=(256,256))\n",
        "  # rgb_image = cv2.cvtColor(white_background, cv2.COLOR_BGR2RGB)\n",
        "  # cropped_image=cv2.resize(cropped_image,(5\n",
        "  # cv2_imshow(cropped_image)\n",
        "  rgb_image = cv2.cvtColor(cropped_image, cv2.COLOR_BGR2RGB)\n",
        "  print(rgb_image.shape)\n",
        "  return rgb_image\n",
        "  # rgb_image = cv2.cvtColor(white_background, cv2.COLOR_BGR2RGB)\n",
        "  # pillow_mask_image = Image.fromarray(rgb_image)\n",
        "  # return pillow_mask_image\n",
        "\n",
        "\n",
        "import json\n",
        "import matplotlib.pyplot as plt\n",
        "import numpy as np\n",
        "import os\n",
        "import cv2\n",
        "import uuid\n",
        "import shutil\n",
        "def clean_folder(folder_name):\n",
        "  if os.path.exists(folder_name):\n",
        "    shutil.rmtree(folder_name)\n",
        "  os.makedirs(folder_name)\n",
        "# Create the directory if it doesn't exist\n",
        "if not os.path.exists(\"/content/Dataset\"):\n",
        "    os.mkdir(\"/content/Dataset\")\n",
        "\n",
        "def get_file_name():\n",
        "    random_uuid = str(uuid.uuid4())[:10]\n",
        "    return f\"/content/Dataset/{random_uuid}\"\n",
        "#Spectral Reflection of Visible Light on Leaves\n",
        "def extract_rgb_values_with_numpy(img_array,plant_name=None):\n",
        "    random_file_name = get_file_name()\n",
        "    json_filename = f\"{random_file_name}.json\"\n",
        "    graph_image_path = f\"{random_file_name}_mask.png\"\n",
        "    mask_image_path = f\"{random_file_name}.png\"\n",
        "\n",
        "    # Save the image\n",
        "    bgr_image = cv2.cvtColor(img_array, cv2.COLOR_RGB2BGR)\n",
        "    cv2.imwrite(mask_image_path, bgr_image)\n",
        "\n",
        "    # Dictionary to store pixel information, reflectance, and wavelengths\n",
        "    store_data = {\n",
        "        \"pixel_info\": [],\n",
        "        \"reflectance_values\": [],\n",
        "        \"wavelength_values\": []\n",
        "    }\n",
        "\n",
        "    # Get the dimensions of the image\n",
        "    height, width, _ = img_array.shape\n",
        "\n",
        "    # Iterate through each pixel\n",
        "    for y in range(height):\n",
        "        for x in range(width):\n",
        "            # Get the RGB values\n",
        "            r, g, b = map(int, img_array[y, x])\n",
        "\n",
        "            def my_map(x, in_min, in_max, out_min, out_max):\n",
        "                return int((x - in_min) * (out_max - out_min) / (in_max - in_min) + out_min)\n",
        "\n",
        "            # Map 8 bits value of R,G,B (0 to 255) to their bandwidth of wavelength\n",
        "            R = my_map(r, 0, 255, 499, 700)  # rgb 0 = 499 nm, rgb 255 = 700\n",
        "            G = my_map(g, 0, 255, 440 , 580)  # rgb 0 = 440 nm, rgb 255 = 580\n",
        "            B = my_map(b, 0, 255, 380, 490)  # rgb 0 = 440 nm, rgb 255 = 490\n",
        "\n",
        "            # Mean of constituent wavelengths\n",
        "            wavelength = (R + G + B) / 3\n",
        "            wavelength_rounded = round(wavelength, 2)\n",
        "\n",
        "            # Calculate reflectance\n",
        "            reflectance = int(0.2125 * r + 0.7154 * g + 0.0721 * b)\n",
        "            r_percentage = (reflectance / 320) * 100\n",
        "            r_percentage_rounded = round(r_percentage, 2)\n",
        "\n",
        "            # Store pixel information, reflectance, and wavelength as a tuple\n",
        "            store_data[\"pixel_info\"].append(((x, y), r_percentage_rounded, wavelength_rounded))\n",
        "\n",
        "    # Sort the list based on wavelengths\n",
        "    sorted_info = sorted(store_data[\"pixel_info\"], key=lambda x: x[2])\n",
        "\n",
        "    # Create a dictionary to store the sorted data\n",
        "    result_dict = {}\n",
        "\n",
        "    # Iterate through each item in g_store\n",
        "    for item in sorted_info:\n",
        "        pixel = item[0]\n",
        "        r = item[1]\n",
        "        w = item[2]\n",
        "\n",
        "        # Check if (r, w) is already in the dictionary\n",
        "        if (r, w) not in result_dict:\n",
        "            result_dict[(r, w)] = [pixel]\n",
        "        else:\n",
        "            result_dict[(r, w)].append(pixel)\n",
        "    reflectance = []\n",
        "    wavelength = []\n",
        "\n",
        "    # Iterate through the keys of the result_dict\n",
        "    for (r, w) in result_dict.keys():\n",
        "        reflectance.append(r)\n",
        "        wavelength.append(w)\n",
        "\n",
        "    # Sort the reflectance and wavelength lists\n",
        "    sorted_reflectance = sorted(reflectance)\n",
        "    sorted_wavelength = sorted(wavelength)\n",
        "\n",
        "    # Plotting the Reflectance values\n",
        "    plt.figure(figsize=(14, 8))\n",
        "    plt.plot(sorted_wavelength, sorted_reflectance, marker='o', label='Reflectance')\n",
        "    plt.xlabel('Wavelength (nm)')\n",
        "    plt.ylabel('Reflectance')\n",
        "    plt.title('Reflectance vs. Wavelength')\n",
        "    plt.xlim(380, 700)  # Set x-axis limits\n",
        "    plt.legend()\n",
        "    plt.grid(True)\n",
        "\n",
        "    # Save the plot to a file\n",
        "    plt.savefig(graph_image_path)  # Specify your desired filename and format\n",
        "    plt.close()  # Close the plot to free up memory\n",
        "    # plt.show()  # Close the plot to free up memory\n",
        "\n",
        "    # Create a new dictionary excluding 'pixel_info'\n",
        "    reduced_data = {\n",
        "        \"plant_name\": plant_name,\n",
        "        \"image_path\": os.path.basename(mask_image_path),\n",
        "        \"graph_path\": os.path.basename(graph_image_path),\n",
        "        \"reflectance\": reflectance,\n",
        "        \"wavelength\": wavelength\n",
        "    }\n",
        "    print(len(reflectance))\n",
        "    print(len(wavelength))\n",
        "    # Save the reduced dictionary to a JSON file\n",
        "    with open(json_filename, 'w') as json_file:\n",
        "        json.dump(reduced_data, json_file, indent=4)  # indent for pretty printing\n",
        "\n",
        "    # temp_json_compatible = {\n",
        "    #     str(key): value for key, value in result_dict.items()\n",
        "    # }\n",
        "\n",
        "    # # Save the dictionary to a JSON file\n",
        "    # with open('/content/temp.json', 'w') as file:\n",
        "    #     json.dump(temp_json_compatible, file, indent=4)\n",
        "\n",
        "    return mask_image_path,graph_image_path,json_filename\n",
        "# Example usage\n",
        "temp=None\n",
        "def gradio_image_process(pillow_image,prompt,plant_name=None):\n",
        "  detections=process_image(pillow_image , prompt)\n",
        "  opencv_mask_image=mask_image(pillow_image, detections)\n",
        "  mask_image_path,graph_image_path,json_filename=extract_rgb_values_with_numpy(opencv_mask_image,plant_name)\n",
        "  return mask_image_path,graph_image_path,json_filename\n"
      ],
      "metadata": {
        "id": "7bYH9_oUJuTf",
        "cellView": "form"
      },
      "execution_count": 159,
      "outputs": []
    },
    {
      "cell_type": "code",
      "source": [
        "clean_folder(\"/content/Dataset\")"
      ],
      "metadata": {
        "id": "ebB1ahA3sP4U"
      },
      "execution_count": 160,
      "outputs": []
    },
    {
      "cell_type": "code",
      "source": [
        "\n",
        "image_path = '/content/tree-leaves.png'  # @param {type: \"string\"}\n",
        "prompt = 'a single leaf'  # @param {type: \"string\"}\n",
        "Plant_Name = 'None'  # @param {type: \"string\"}\n",
        "\n",
        "pillow_image = Image.open(image_path)\n",
        "if pillow_image.mode != 'RGB':\n",
        "    pillow_image = pillow_image.convert('RGB')\n",
        "mask_image_path,graph_image_path,json_filename=gradio_image_process(pillow_image,prompt,Plant_Name)\n",
        "cv2_imshow(cv2.imread(mask_image_path))\n",
        "cv2_imshow(cv2.imread(graph_image_path))"
      ],
      "metadata": {
        "colab": {
          "base_uri": "https://localhost:8080/",
          "height": 961
        },
        "cellView": "form",
        "id": "C5xNhiipGZvt",
        "outputId": "98557ddd-0503-4530-d117-00f6c8bb6a4d"
      },
      "execution_count": 161,
      "outputs": [
        {
          "output_type": "stream",
          "name": "stdout",
          "text": [
            "(256, 256, 3)\n",
            "1536\n",
            "1536\n"
          ]
        },
        {
          "output_type": "display_data",
          "data": {
            "text/plain": [
              "<PIL.Image.Image image mode=RGB size=256x256>"
            ],
            "image/png": "[encoded data removed]"
          },
          "metadata": {}
        },
        {
          "output_type": "display_data",
          "data": {
            "text/plain": [
              "<PIL.Image.Image image mode=RGB size=1400x800>"
            ],
            "image/png": "[encoded data removed]"
          },
          "metadata": {}
        }
      ]
    },
    {
      "cell_type": "code",
      "source": [
        "from google.colab import files\n",
        "files.download(json_filename)"
      ],
      "metadata": {
        "colab": {
          "base_uri": "https://localhost:8080/",
          "height": 17
        },
        "id": "nF1RRRs-dU_s",
        "outputId": "480d7f6a-9ee8-4595-9af7-d41d19cc3974"
      },
      "execution_count": 155,
      "outputs": [
        {
          "output_type": "display_data",
          "data": {
            "text/plain": [
              "<IPython.core.display.Javascript object>"
            ],
            "application/javascript": [
              "\n",
              "    async function download(id, filename, size) {\n",
              "      if (!google.colab.kernel.accessAllowed) {\n",
              "        return;\n",
              "      }\n",
              "      const div = document.createElement('div');\n",
              "      const label = document.createElement('label');\n",
              "      label.textContent = `Downloading \"${filename}\": `;\n",
              "      div.appendChild(label);\n",
              "      const progress = document.createElement('progress');\n",
              "      progress.max = size;\n",
              "      div.appendChild(progress);\n",
              "      document.body.appendChild(div);\n",
              "\n",
              "      const buffers = [];\n",
              "      let downloaded = 0;\n",
              "\n",
              "      const channel = await google.colab.kernel.comms.open(id);\n",
              "      // Send a message to notify the kernel that we're ready.\n",
              "      channel.send({})\n",
              "\n",
              "      for await (const message of channel.messages) {\n",
              "        // Send a message to notify the kernel that we're ready.\n",
              "        channel.send({})\n",
              "        if (message.buffers) {\n",
              "          for (const buffer of message.buffers) {\n",
              "            buffers.push(buffer);\n",
              "            downloaded += buffer.byteLength;\n",
              "            progress.value = downloaded;\n",
              "          }\n",
              "        }\n",
              "      }\n",
              "      const blob = new Blob(buffers, {type: 'application/binary'});\n",
              "      const a = document.createElement('a');\n",
              "      a.href = window.URL.createObjectURL(blob);\n",
              "      a.download = filename;\n",
              "      div.appendChild(a);\n",
              "      a.click();\n",
              "      div.remove();\n",
              "    }\n",
              "  "
            ]
          },
          "metadata": {}
        },
        {
          "output_type": "display_data",
          "data": {
            "text/plain": [
              "<IPython.core.display.Javascript object>"
            ],
            "application/javascript": [
              "download(\"download_306cd231-e5fc-4e24-bce2-bec04bbd1125\", \"614593e0-c.json\", 47010)"
            ]
          },
          "metadata": {}
        }
      ]
    },
    {
      "cell_type": "code",
      "source": [
        "#@title Gradio API Interface\n",
        "\n",
        "import gradio as gr\n",
        "gradio_examples = [[\"/content/tree-leaves.png\",\"a single leaf\",\"None\"]]\n",
        "gradio_input=[gr.Image(label=\"Upload or Capture Image\",type='pil',sources=['upload', 'webcam'],mirror_webcam=False),gr.Textbox(label=\"Text prompt\",value=\"a single leaf\"),gr.Textbox(label=\"Plant Name\",value=\"None\")]\n",
        "gradio_output=[gr.Image(label=\"Detected leaf\"),gr.Image(label=\"Reflectance vs. Wavelength graph\"),gr.File(label=\"Download Json File\")]\n",
        "gradio_interface = gr.Interface(fn=gradio_image_process, inputs=gradio_input,outputs=gradio_output , title=\"Spectral Reflection of Visible Light on Leaves\",examples=gradio_examples,cache_examples=True)\n",
        "gradio_interface.queue().launch(share=True,debug=False)\n",
        "\n"
      ],
      "metadata": {
        "colab": {
          "base_uri": "https://localhost:8080/",
          "height": 698
        },
        "cellView": "form",
        "id": "isEFQLHfIGaC",
        "outputId": "fb7c2f3a-751c-4b90-cbeb-9806debf9fc9"
      },
      "execution_count": 162,
      "outputs": [
        {
          "output_type": "stream",
          "name": "stdout",
          "text": [
            "Caching examples at: '/content/florence-sam/gradio_cached_examples/55'\n",
            "Caching example 1/1\n",
            "(256, 256, 3)\n",
            "1536\n",
            "1536\n",
            "Colab notebook detected. To show errors in colab notebook, set debug=True in launch()\n",
            "Running on public URL: https://90cef6508d86516aa1.gradio.live\n",
            "\n",
            "This share link expires in 72 hours. For free permanent hosting and GPU upgrades, run `gradio deploy` from Terminal to deploy to Spaces (https://huggingface.co/spaces)\n"
          ]
        },
        {
          "output_type": "display_data",
          "data": {
            "text/plain": [
              "<IPython.core.display.HTML object>"
            ],
            "text/html": [
              "<div><iframe src=\"https://90cef6508d86516aa1.gradio.live\" width=\"100%\" height=\"500\" allow=\"autoplay; camera; microphone; clipboard-read; clipboard-write;\" frameborder=\"0\" allowfullscreen></iframe></div>"
            ]
          },
          "metadata": {}
        },
        {
          "output_type": "execute_result",
          "data": {
            "text/plain": []
          },
          "metadata": {},
          "execution_count": 162
        }
      ]
    }
  ]
}